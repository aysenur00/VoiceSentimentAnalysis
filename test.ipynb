{
 "cells": [
  {
   "cell_type": "markdown",
   "metadata": {},
   "source": [
    "#### Import modules"
   ]
  },
  {
   "cell_type": "code",
   "execution_count": 15,
   "metadata": {},
   "outputs": [],
   "source": [
    "from keras.models import load_model\n",
    "import numpy as np\n",
    "import librosa\n",
    "import joblib"
   ]
  },
  {
   "cell_type": "code",
   "execution_count": 16,
   "metadata": {},
   "outputs": [],
   "source": [
    "# Load the trained model\n",
    "model = load_model(\"saved_model/ser_model.h5\")\n",
    "\n",
    "# Load the fitted encoder\n",
    "encoder = joblib.load('saved_model/encoder.pkl')"
   ]
  },
  {
   "cell_type": "code",
   "execution_count": 17,
   "metadata": {},
   "outputs": [],
   "source": [
    "# Function to extract MFCC features from the audio data\n",
    "def extract_mfcc(filename):\n",
    "    y, sr = librosa.load(filename, duration=4, offset=0.5)\n",
    "    mfcc = np.mean(librosa.feature.mfcc(y=y, sr=sr, n_mfcc=40).T, axis=0)\n",
    "    return mfcc"
   ]
  },
  {
   "cell_type": "code",
   "execution_count": 30,
   "metadata": {},
   "outputs": [],
   "source": [
    "# Path to the new audio file (recorded voice)\n",
    "new_audio_file = 'testing.wav'"
   ]
  },
  {
   "cell_type": "code",
   "execution_count": 31,
   "metadata": {},
   "outputs": [],
   "source": [
    "# Extract features from the new audio file\n",
    "mfcc_features = extract_mfcc(new_audio_file)\n",
    "mfcc_features = np.expand_dims(mfcc_features, axis=0)  # Expand dims to match model input shape\n",
    "mfcc_features = np.expand_dims(mfcc_features, axis=-1) # Expand dims to add channel dimension\n"
   ]
  },
  {
   "cell_type": "code",
   "execution_count": 32,
   "metadata": {},
   "outputs": [
    {
     "name": "stdout",
     "output_type": "stream",
     "text": [
      "1/1 [==============================] - 0s 31ms/step\n"
     ]
    }
   ],
   "source": [
    "# Make a prediction\n",
    "predicted_probs = model.predict(mfcc_features)\n",
    "predicted_class = np.argmax(predicted_probs, axis=1)"
   ]
  },
  {
   "cell_type": "code",
   "execution_count": 33,
   "metadata": {},
   "outputs": [
    {
     "name": "stdout",
     "output_type": "stream",
     "text": [
      "The predicted emotion for the new audio file is: disgust\n"
     ]
    }
   ],
   "source": [
    "# Decode the predicted class to get the emotion label\n",
    "emotion_labels = encoder.categories_[0]\n",
    "predicted_emotion = emotion_labels[predicted_class[0]]\n",
    "\n",
    "print(f'The predicted emotion for the new audio file is: {predicted_emotion}')"
   ]
  }
 ],
 "metadata": {
  "kernelspec": {
   "display_name": "Python 3",
   "language": "python",
   "name": "python3"
  },
  "language_info": {
   "codemirror_mode": {
    "name": "ipython",
    "version": 3
   },
   "file_extension": ".py",
   "mimetype": "text/x-python",
   "name": "python",
   "nbconvert_exporter": "python",
   "pygments_lexer": "ipython3",
   "version": "3.9.7"
  }
 },
 "nbformat": 4,
 "nbformat_minor": 2
}
